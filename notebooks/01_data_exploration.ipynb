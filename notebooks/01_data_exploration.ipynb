{
  "cells": [
    {
      "cell_type": "markdown",
      "metadata": {},
      "source": [
        "# NSL-KDD Dataset Exploration\\n\n",
        "\n",
        "Comprehensive analysis of the NSL-KDD intrusion detection dataset."
      ]
    },
    {
      "cell_type": "code",
      "execution_count": 1,
      "metadata": {},
      "outputs": [
        {
          "name": "stdout",
          "output_type": "stream",
          "text": [
            "📊 Environment Ready!\n"
          ]
        }
      ],
      "source": [
        "# Import libraries\\n\n",
        "import sys\n",
        "sys.path.append('../src')\n",
        "\n",
        "import pandas as pd\n",
        "import numpy as np\n",
        "import matplotlib.pyplot as plt\n",
        "import seaborn as sns\n",
        "from nsl_kdd_analyzer import NSLKDDAnalyzer\n",
        "\n",
        "plt.style.use('default')\n",
        "sns.set_palette(\"husl\")\n",
        "%matplotlib inline\n",
        "\n",
        "import warnings\n",
        "warnings.filterwarnings('ignore')\n",
        "\n",
        "print(\"📊 Environment Ready!\")"
      ]
    },
    {
      "cell_type": "code",
      "execution_count": 4,
      "metadata": {},
      "outputs": [
        {
          "name": "stdout",
          "output_type": "stream",
          "text": [
            "✗ Error loading data from KDDTrain+_20Percent.txt: [Errno 2] No such file or directory: 'data/raw/KDDTrain+_20Percent.txt'\n"
          ]
        }
      ],
      "source": [
        "# Quick analysis\n",
        "\n",
        "analyzer = NSLKDDAnalyzer()\n",
        "data = analyzer.load_data('KDDTrain+_20Percent.txt')\n",
        "\n",
        "\n",
        "if data is not None:\n",
        "    print(f\"Dataset shape: {data.shape}\")\n",
        "    print(f\"Attack distribution:\")\n",
        "    print(data['attack_category'].value_counts())"
      ]
    }
  ],
  "metadata": {
    "kernelspec": {
      "display_name": "anomaly-detection",
      "language": "python",
      "name": "python3"
    },
    "language_info": {
      "codemirror_mode": {
        "name": "ipython",
        "version": 3
      },
      "file_extension": ".py",
      "mimetype": "text/x-python",
      "name": "python",
      "nbconvert_exporter": "python",
      "pygments_lexer": "ipython3",
      "version": "3.9.23"
    }
  },
  "nbformat": 4,
  "nbformat_minor": 4
}
